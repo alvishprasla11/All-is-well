{
 "cells": [
  {
   "cell_type": "code",
   "execution_count": 1,
   "id": "970478a8-ef27-4b5d-a616-bf03e684fd76",
   "metadata": {},
   "outputs": [
    {
     "name": "stdout",
     "output_type": "stream",
     "text": [
      "All libraries installed successfully!\n"
     ]
    }
   ],
   "source": [
    "import pandas as pd\n",
    "import numpy as np\n",
    "import seaborn as sns\n",
    "import matplotlib.pyplot as plt\n",
    "from sklearn.model_selection import train_test_split\n",
    "from sklearn.tree import DecisionTreeClassifier\n",
    "\n",
    "print(\"All libraries installed successfully!\")"
   ]
  },
  {
   "cell_type": "code",
   "execution_count": 2,
   "id": "a8bc0ca4-80d9-4f88-a76e-ffb626c0bb04",
   "metadata": {},
   "outputs": [
    {
     "name": "stdout",
     "output_type": "stream",
     "text": [
      "               Name  Age Marital Status    Education Level  \\\n",
      "0  Christine Barker   31        Married  Bachelor's Degree   \n",
      "1  Jacqueline Lewis   55        Married        High School   \n",
      "2    Shannon Church   78        Widowed    Master's Degree   \n",
      "3    Charles Jordan   58       Divorced    Master's Degree   \n",
      "4      Michael Rich   18         Single        High School   \n",
      "\n",
      "   Number of Children Smoking Status Physical Activity Level  \\\n",
      "0                   2     Non-smoker                  Active   \n",
      "1                   1     Non-smoker               Sedentary   \n",
      "2                   1     Non-smoker               Sedentary   \n",
      "3                   3     Non-smoker                Moderate   \n",
      "4                   0     Non-smoker               Sedentary   \n",
      "\n",
      "  Employment Status     Income Alcohol Consumption Dietary Habits  \\\n",
      "0        Unemployed   26265.67            Moderate       Moderate   \n",
      "1          Employed   42710.36                High      Unhealthy   \n",
      "2          Employed  125332.79                 Low      Unhealthy   \n",
      "3        Unemployed    9992.78            Moderate       Moderate   \n",
      "4        Unemployed    8595.08                 Low       Moderate   \n",
      "\n",
      "  Sleep Patterns History of Mental Illness History of Substance Abuse  \\\n",
      "0           Fair                       Yes                         No   \n",
      "1           Fair                       Yes                         No   \n",
      "2           Good                        No                         No   \n",
      "3           Poor                        No                         No   \n",
      "4           Fair                       Yes                         No   \n",
      "\n",
      "  Family History of Depression Chronic Medical Conditions  \n",
      "0                          Yes                        Yes  \n",
      "1                           No                        Yes  \n",
      "2                          Yes                         No  \n",
      "3                           No                         No  \n",
      "4                          Yes                        Yes  \n",
      "Name                            0\n",
      "Age                             0\n",
      "Marital Status                  0\n",
      "Education Level                 0\n",
      "Number of Children              0\n",
      "Smoking Status                  0\n",
      "Physical Activity Level         0\n",
      "Employment Status               0\n",
      "Income                          0\n",
      "Alcohol Consumption             0\n",
      "Dietary Habits                  0\n",
      "Sleep Patterns                  0\n",
      "History of Mental Illness       0\n",
      "History of Substance Abuse      0\n",
      "Family History of Depression    0\n",
      "Chronic Medical Conditions      0\n",
      "dtype: int64\n",
      "Name                             object\n",
      "Age                               int64\n",
      "Marital Status                   object\n",
      "Education Level                  object\n",
      "Number of Children                int64\n",
      "Smoking Status                   object\n",
      "Physical Activity Level          object\n",
      "Employment Status                object\n",
      "Income                          float64\n",
      "Alcohol Consumption              object\n",
      "Dietary Habits                   object\n",
      "Sleep Patterns                   object\n",
      "History of Mental Illness        object\n",
      "History of Substance Abuse       object\n",
      "Family History of Depression     object\n",
      "Chronic Medical Conditions       object\n",
      "dtype: object\n"
     ]
    }
   ],
   "source": [
    "import pandas as pd\n",
    "\n",
    "# Load the dataset\n",
    "df = pd.read_csv(\"Data/depression_data.csv\")\n",
    "\n",
    "# Display the first few rows\n",
    "print(df.head())\n",
    "\n",
    "# Check for missing values\n",
    "print(df.isnull().sum())\n",
    "\n",
    "# Display data types of each column\n",
    "print(df.dtypes)"
   ]
  },
  {
   "cell_type": "code",
   "execution_count": null,
   "id": "1c759180-b0dc-49eb-ad5e-16f6bfd2e69b",
   "metadata": {},
   "outputs": [],
   "source": [
    "from sklearn.preprocessing import LabelEncoder\n",
    "\n",
    "# List of categorical columns\n",
    "categorical_columns = [\n",
    "    \"Marital Status\", \"Education Level\", \"Smoking Status\",\n",
    "    \"Physical Activity Level\", \"Employment Status\", \"Alcohol Consumption\",\n",
    "    \"Dietary Habits\", \"Sleep Patterns\", \"History of Mental Illness\",\n",
    "    \"History of Substance Abuse\", \"Family History of Depression\",\n",
    "    \"Chronic Medical Conditions\"\n",
    "]\n",
    "\n",
    "# Apply Label Encoding\n",
    "encoder = LabelEncoder()\n",
    "for col in categorical_columns:\n",
    "    df[col] = encoder.fit_transform(df[col])\n",
    "# Drop unnecessary columns (remove 'Name' if it's in the dataset)\n",
    "print(df.head())  # Check if changes are applied"
   ]
  },
  {
   "cell_type": "code",
   "execution_count": null,
   "id": "4b6143d0-3de8-43ad-ab3d-588c9dec9a85",
   "metadata": {},
   "outputs": [],
   "source": [
    "from sklearn.svm import OneClassSVM\n",
    "from sklearn.ensemble import IsolationForest\n",
    "# Define features (X)\n",
    "X = df.drop(columns=[\"Name\"])  # Drop Name as it's not useful\n",
    "\n",
    "# Initialize Isolation Forest (anomaly detection model)\n",
    "model = IsolationForest(contamination=0.05)  # 5% contamination for outliers\n",
    "model.fit(x)\n",
    "\n",
    "\n",
    "\n",
    "# Generate anomaly scores (higher score means more typical, lower score means more anomalous)\n",
    "df[\"Depression Score\"] = model.decision_function(X)\n",
    "\n",
    "# Print the first few \"Depression Score\" values to check if they're being calculated\n",
    "print(\"\\nFirst few 'Depression Score' values:\")\n",
    "print(df[\"Depression Score\"].head())"
   ]
  },
  {
   "cell_type": "code",
   "execution_count": null,
   "id": "2c69c146-26c2-4634-a6a8-3a43343a5052",
   "metadata": {},
   "outputs": [],
   "source": [
    "import matplotlib.pyplot as plt\n",
    "import seaborn as sns\n",
    "\n",
    "# Plot the depression likelihood distribution\n",
    "plt.figure(figsize=(10, 5))\n",
    "sns.histplot(df[\"Depression Likelihood (%)\"], bins=30, kde=True)\n",
    "plt.xlabel(\"Depression Likelihood (%)\")\n",
    "plt.ylabel(\"Count\")\n",
    "plt.title(\"Distribution of Depression Likelihood Scores\")\n",
    "plt.show()"
   ]
  },
  {
   "cell_type": "code",
   "execution_count": null,
   "id": "2a59e3a2-16a7-4167-9db5-d238b629d572",
   "metadata": {},
   "outputs": [],
   "source": [
    "import joblib\n",
    "\n",
    "# Save the trained model\n",
    "joblib.dump(model, \"depression_prediction_model.pkl\")\n",
    "\n",
    "# Load the model for later use\n",
    "loaded_model = joblib.load(\"depression_prediction_model.pkl\")\n",
    "\n",
    "# Example new prediction\n",
    "new_data = [[90, 1, 3, 2, 1, 0, 2, 2, 1, 1, 0, 0, 1, 2,1]]  # Example data (replace with actual values)\n",
    "new_score = loaded_model.decision_function(new_data)\n",
    "new_likelihood = (1 - (new_score - df[\"Depression Score\"].min()) /\n",
    "                 (df[\"Depression Score\"].max() - df[\"Depression Score\"].min())) * 100\n",
    "\n",
    "print(f\"Predicted Depression Likelihood: {new_likelihood[0]:.2f}%\")\n",
    "\n",
    "test_case = pd.DataFrame([[45, 0, 1, 2, 1, 12000, 2, 3, 0, 2, 1, 1, 1, 3]], \n",
    "                         columns=X.columns)\n",
    "\n",
    "predicted_score = model.predict(test_case)\n",
    "print(f\"Predicted Depression Likelihood: {predicted_score[0]:.2f}%\")"
   ]
  },
  {
   "cell_type": "code",
   "execution_count": null,
   "id": "8e745f60-991f-4db6-99fb-27485180af69",
   "metadata": {},
   "outputs": [],
   "source": []
  },
  {
   "cell_type": "code",
   "execution_count": null,
   "id": "3df77525-bc6d-4d9e-be80-034d9970592b",
   "metadata": {},
   "outputs": [],
   "source": [
    "from sklearn.ensemble import RandomForestRegressor\n",
    "\n",
    "model = RandomForestRegressor(n_estimators=100, random_state=42)\n",
    "model.fit(X_train, y_train)"
   ]
  },
  {
   "cell_type": "code",
   "execution_count": null,
   "id": "0c64a680-8b50-446c-916f-1376833669a3",
   "metadata": {},
   "outputs": [],
   "source": [
    "from sklearn.ensemble import VotingClassifier\n",
    "\n",
    "# Initialize individual models\n",
    "dt_model = DecisionTreeClassifier(random_state=42)\n",
    "rf_model = RandomForestClassifier(random_state=42)\n",
    "\n",
    "# Combine models into a voting classifier\n",
    "ensemble_model = VotingClassifier(estimators=[('dt', dt_model), ('rf', rf_model)], voting='hard')\n",
    "\n",
    "# Train the ensemble model\n",
    "ensemble_model.fit(X_train, y_train)\n",
    "\n",
    "# Evaluate the ensemble model\n",
    "ensemble_y_pred = ensemble_model.predict(X_test)\n",
    "print(f\"Ensemble Model Accuracy: {accuracy_score(y_test, ensemble_y_pred) * 100:.2f}%\")"
   ]
  },
  {
   "cell_type": "code",
   "execution_count": null,
   "id": "5e2b6842-b9b3-4ba2-8641-f6ac12138c6a",
   "metadata": {},
   "outputs": [],
   "source": [
    "import matplotlib.pyplot as plt\n",
    "import seaborn as sns\n",
    "\n",
    "# Get feature importance\n",
    "feature_importance = model.feature_importances_\n",
    "\n",
    "# Plot feature importance\n",
    "plt.figure(figsize=(10,5))\n",
    "sns.barplot(x=X.columns, y=feature_importance)\n",
    "plt.xticks(rotation=90)\n",
    "plt.title(\"Feature Importance\")\n",
    "plt.show()"
   ]
  },
  {
   "cell_type": "code",
   "execution_count": null,
   "id": "d1a9cdb6-a6c3-46f1-8ebd-8f2f73a8eaf6",
   "metadata": {},
   "outputs": [],
   "source": [
    "import joblib\n",
    "\n",
    "# Save the trained model\n",
    "joblib.dump(model, \"stress_prediction_model.pkl\")\n",
    "\n",
    "# Load and use the model later\n",
    "loaded_model = joblib.load(\"stress_prediction_model.pkl\")\n",
    "new_prediction = loaded_model.predict([[30,1,150,2,7.0,4.0,0,2.0,4.0,0,0,8,1.0,5,1,0,120,180,90]])\n",
    "print(\"Predicted Stress Level:\", new_prediction)"
   ]
  },
  {
   "cell_type": "code",
   "execution_count": null,
   "id": "531e78bd-1886-47f7-9373-3ff7b016e63a",
   "metadata": {},
   "outputs": [],
   "source": []
  }
 ],
 "metadata": {
  "kernelspec": {
   "display_name": "Python 3 (ipykernel)",
   "language": "python",
   "name": "python3"
  },
  "language_info": {
   "codemirror_mode": {
    "name": "ipython",
    "version": 3
   },
   "file_extension": ".py",
   "mimetype": "text/x-python",
   "name": "python",
   "nbconvert_exporter": "python",
   "pygments_lexer": "ipython3",
   "version": "3.13.1"
  }
 },
 "nbformat": 4,
 "nbformat_minor": 5
}
