{
 "cells": [
  {
   "cell_type": "code",
   "execution_count": 6,
   "id": "970478a8-ef27-4b5d-a616-bf03e684fd76",
   "metadata": {},
   "outputs": [
    {
     "name": "stdout",
     "output_type": "stream",
     "text": [
      "All libraries installed successfully!\n"
     ]
    }
   ],
   "source": [
    "import pandas as pd\n",
    "import numpy as np\n",
    "import seaborn as sns\n",
    "import matplotlib.pyplot as plt\n",
    "from sklearn.model_selection import train_test_split\n",
    "from sklearn.tree import DecisionTreeClassifier\n",
    "\n",
    "print(\"All libraries installed successfully!\")"
   ]
  },
  {
   "cell_type": "code",
   "execution_count": 20,
   "id": "a8bc0ca4-80d9-4f88-a76e-ffb626c0bb04",
   "metadata": {},
   "outputs": [
    {
     "name": "stdout",
     "output_type": "stream",
     "text": [
      "   Age  Gender         Occupation Marital_Status  Sleep_Duration  \\\n",
      "0   30    Male  Software Engineer         Single             7.0   \n",
      "1   35  Female  Marketing Manager        Married             6.0   \n",
      "2   40    Male     Data Scientist       Divorced             7.0   \n",
      "3   35    Male  Software Engineer         Single             7.0   \n",
      "4   29  Female            Teacher         Single             8.0   \n",
      "\n",
      "   Sleep_Quality Wake_Up_Time  Bed_Time  Physical_Activity  Screen_Time  ...  \\\n",
      "0            4.0      7:00 AM  10:00 PM                2.0          4.0  ...   \n",
      "1            3.0      6:00 AM  11:00 PM                1.0          3.0  ...   \n",
      "2            4.0      7:00 AM  10:00 PM                2.0          4.0  ...   \n",
      "3            4.0      7:00 AM  10:00 PM                2.0          4.0  ...   \n",
      "4            5.0      6:30 AM  10:30 PM                3.0          2.0  ...   \n",
      "\n",
      "   Smoking_Habit  Work_Hours Travel_Time  Social_Interactions  \\\n",
      "0             No           8         1.0                    5   \n",
      "1             No           9         2.0                    3   \n",
      "2             No           8         1.0                    5   \n",
      "3             No           8         1.0                    5   \n",
      "4             No           7         1.0                    4   \n",
      "\n",
      "   Meditation_Practice      Exercise_Type Blood_Pressure Cholesterol_Level  \\\n",
      "0                  Yes             Cardio            120               180   \n",
      "1                   No               Yoga            110               160   \n",
      "2                  Yes  Strength Training            130               200   \n",
      "3                  Yes             Cardio            120               180   \n",
      "4                  Yes               Yoga            110               180   \n",
      "\n",
      "   Blood_Sugar_Level  Stress_Detection  \n",
      "0                 90               Low  \n",
      "1                 80            Medium  \n",
      "2                100              High  \n",
      "3                 90               Low  \n",
      "4                 90               Low  \n",
      "\n",
      "[5 rows x 22 columns]\n",
      "Age                    0\n",
      "Gender                 0\n",
      "Occupation             0\n",
      "Marital_Status         0\n",
      "Sleep_Duration         0\n",
      "Sleep_Quality          0\n",
      "Wake_Up_Time           0\n",
      "Bed_Time               0\n",
      "Physical_Activity      0\n",
      "Screen_Time            0\n",
      "Caffeine_Intake        0\n",
      "Alcohol_Intake         0\n",
      "Smoking_Habit          0\n",
      "Work_Hours             0\n",
      "Travel_Time            0\n",
      "Social_Interactions    0\n",
      "Meditation_Practice    0\n",
      "Exercise_Type          0\n",
      "Blood_Pressure         0\n",
      "Cholesterol_Level      0\n",
      "Blood_Sugar_Level      0\n",
      "Stress_Detection       0\n",
      "dtype: int64\n",
      "Age                      int64\n",
      "Gender                  object\n",
      "Occupation              object\n",
      "Marital_Status          object\n",
      "Sleep_Duration         float64\n",
      "Sleep_Quality          float64\n",
      "Wake_Up_Time            object\n",
      "Bed_Time                object\n",
      "Physical_Activity      float64\n",
      "Screen_Time            float64\n",
      "Caffeine_Intake          int64\n",
      "Alcohol_Intake           int64\n",
      "Smoking_Habit           object\n",
      "Work_Hours               int64\n",
      "Travel_Time            float64\n",
      "Social_Interactions      int64\n",
      "Meditation_Practice     object\n",
      "Exercise_Type           object\n",
      "Blood_Pressure           int64\n",
      "Cholesterol_Level        int64\n",
      "Blood_Sugar_Level        int64\n",
      "Stress_Detection        object\n",
      "dtype: object\n"
     ]
    }
   ],
   "source": [
    "import pandas as pd\n",
    "\n",
    "# Load the dataset\n",
    "df = pd.read_csv(\"older_models/older_data/stress_detection_data.csv\")\n",
    "\n",
    "# Display the first few rows\n",
    "print(df.head())\n",
    "\n",
    "# Check for missing values\n",
    "print(df.isnull().sum())\n",
    "\n",
    "# Display data types of each column\n",
    "print(df.dtypes)"
   ]
  },
  {
   "cell_type": "code",
   "execution_count": 10,
   "id": "1c759180-b0dc-49eb-ad5e-16f6bfd2e69b",
   "metadata": {},
   "outputs": [
    {
     "name": "stdout",
     "output_type": "stream",
     "text": [
      "Category Mappings:\n",
      "Gender: {'Female': np.int64(0), 'Male': np.int64(1)}\n",
      "\n",
      "Occupation: {'Account Manager': np.int64(0), 'Accountant': np.int64(1), 'Actor': np.int64(2), 'Advertising Executive': np.int64(3), 'Advertising Manager': np.int64(4), 'Architect': np.int64(5), 'Artist': np.int64(6), 'Baker': np.int64(7), 'Bakery Owner': np.int64(8), 'Bank Manager': np.int64(9), 'Banker': np.int64(10), 'Bartender': np.int64(11), 'Biologist': np.int64(12), 'Blacksmith': np.int64(13), 'Brand Manager': np.int64(14), 'Bus Driver': np.int64(15), 'Business Analyst': np.int64(16), 'Business Consultant': np.int64(17), 'Business Owner': np.int64(18), 'CEO': np.int64(19), 'Carpenter': np.int64(20), 'Chef': np.int64(21), 'Civil Engineer': np.int64(22), 'Civil Servant': np.int64(23), 'Cleaner': np.int64(24), 'Cobbler': np.int64(25), 'Construction Engineer': np.int64(26), 'Construction Manager': np.int64(27), 'Construction Worker': np.int64(28), 'Consultant': np.int64(29), 'Content Creator': np.int64(30), 'Content Strategist': np.int64(31), 'Content Writer': np.int64(32), 'Copywriter': np.int64(33), 'Courier': np.int64(34), 'Customer Support': np.int64(35), 'Data Analyst': np.int64(36), 'Data Engineer': np.int64(37), 'Data Scientist': np.int64(38), 'Database Administrator': np.int64(39), 'Delivery Driver': np.int64(40), 'Dentist': np.int64(41), 'Designer': np.int64(42), 'Developer': np.int64(43), 'Digital Marketer': np.int64(44), 'Doctor': np.int64(45), 'Driver': np.int64(46), 'Editor': np.int64(47), 'Electrical Engineer': np.int64(48), 'Electrical Technician': np.int64(49), 'Electrician': np.int64(50), 'Engineer': np.int64(51), 'Entrepreneur': np.int64(52), 'Event Coordinator': np.int64(53), 'Event Manager': np.int64(54), 'Event Planner': np.int64(55), 'Executive Director': np.int64(56), 'Factory Worker': np.int64(57), 'Farmer': np.int64(58), 'Fashion Designer': np.int64(59), 'Financial Advisor': np.int64(60), 'Financial Analyst': np.int64(61), 'Financial Planner': np.int64(62), 'Firefighter': np.int64(63), 'Fisherwoman': np.int64(64), 'Fitness Instructor': np.int64(65), 'Fitness Trainer': np.int64(66), 'Flower Seller': np.int64(67), 'Freelancer': np.int64(68), 'Graphic Designer': np.int64(69), 'HR Executive': np.int64(70), 'HR Manager': np.int64(71), 'HR Specialist': np.int64(72), 'Hair Stylist': np.int64(73), 'Handicrafts Maker': np.int64(74), 'Healthcare Assistant': np.int64(75), 'Human Resources': np.int64(76), 'Human Resources Manager': np.int64(77), 'IT Consultant': np.int64(78), 'IT Manager': np.int64(79), 'IT Specialist': np.int64(80), 'IT Support': np.int64(81), 'IT Support Specialist': np.int64(82), 'Insurance Agent': np.int64(83), 'Interior Designer': np.int64(84), 'Janitor': np.int64(85), 'Journalist': np.int64(86), 'Laboratory Technician': np.int64(87), 'Lawyer': np.int64(88), 'Librarian': np.int64(89), 'Manager': np.int64(90), 'Marketing Director': np.int64(91), 'Marketing Executive': np.int64(92), 'Marketing Manager': np.int64(93), 'Marketing Specialist': np.int64(94), 'Mechanic': np.int64(95), 'Mechanical Engineer': np.int64(96), 'Medical Assistant': np.int64(97), 'Musician': np.int64(98), 'Nanny': np.int64(99), 'Network Administrator': np.int64(100), 'Network Engineer': np.int64(101), 'Nurse': np.int64(102), 'Nurse Practitioner': np.int64(103), 'Nutritional Specialist': np.int64(104), 'Nutritionist': np.int64(105), 'Operations Manager': np.int64(106), 'Painter': np.int64(107), 'Personal Trainer': np.int64(108), 'Pharmacist': np.int64(109), 'Photographer': np.int64(110), 'Physician': np.int64(111), 'Physicist': np.int64(112), 'Physiotherapist': np.int64(113), 'Pilot': np.int64(114), 'Plumber': np.int64(115), 'Police Officer': np.int64(116), 'Potter': np.int64(117), 'Primary School Teacher': np.int64(118), 'Product Designer': np.int64(119), 'Product Manager': np.int64(120), 'Program Manager': np.int64(121), 'Project Coordinator': np.int64(122), 'Project Manager': np.int64(123), 'Psychologist': np.int64(124), 'Public Relations Specialist': np.int64(125), 'Real Estate Agent': np.int64(126), 'Receptionist': np.int64(127), 'Research Analyst': np.int64(128), 'Research Assistant': np.int64(129), 'Research Scientist': np.int64(130), 'Researcher': np.int64(131), 'Restaurant Manager': np.int64(132), 'Retail Manager': np.int64(133), 'Retail Worker': np.int64(134), 'Retired': np.int64(135), 'SEO Specialist': np.int64(136), 'Sales Executive': np.int64(137), 'Sales Manager': np.int64(138), 'Sales Representative': np.int64(139), 'Salesperson': np.int64(140), 'Scientist': np.int64(141), 'Seamstress': np.int64(142), 'Secretary': np.int64(143), 'Security Guard': np.int64(144), 'Security Officer': np.int64(145), 'Shopkeeper': np.int64(146), 'Social Worker': np.int64(147), 'Software Architect': np.int64(148), 'Software Developer': np.int64(149), 'Software Engineer': np.int64(150), 'Software Tester': np.int64(151), 'Street Vendor': np.int64(152), 'Student': np.int64(153), 'Surgeon': np.int64(154), 'Tailor': np.int64(155), 'Taxi Driver': np.int64(156), 'Teacher': np.int64(157), 'Technician': np.int64(158), 'Therapist': np.int64(159), 'Truck Driver': np.int64(160), 'UX Designer': np.int64(161), 'Vegetable Vendor': np.int64(162), 'Veterinarian': np.int64(163), 'Waitress': np.int64(164), 'Warehouse Worker': np.int64(165), 'Weaver': np.int64(166), 'Web Developer': np.int64(167), 'Writer': np.int64(168)}\n",
      "\n",
      "Marital_Status: {'Divorced': np.int64(0), 'Married': np.int64(1), 'Single': np.int64(2)}\n",
      "\n",
      "Smoking_Habit: {'No': np.int64(0), 'Yes': np.int64(1)}\n",
      "\n",
      "Meditation_Practice: {'No': np.int64(0), 'Yes': np.int64(1)}\n",
      "\n",
      "Exercise_Type: {'Aerobics': np.int64(0), 'Cardio': np.int64(1), 'Meditation': np.int64(2), 'Pilates': np.int64(3), 'Strength Training': np.int64(4), 'Walking': np.int64(5), 'Yoga': np.int64(6)}\n",
      "\n",
      "Stress_Detection: {'High': np.int64(0), 'Low': np.int64(1), 'Medium': np.int64(2)}\n",
      "\n",
      "\n",
      "Updated DataFrame Preview:\n",
      "   Age  Gender  Occupation  Marital_Status  Sleep_Duration  Sleep_Quality  \\\n",
      "0   30       1         150               2             7.0            4.0   \n",
      "1   35       0          93               1             6.0            3.0   \n",
      "2   40       1          38               0             7.0            4.0   \n",
      "3   35       1         150               2             7.0            4.0   \n",
      "4   29       0         157               2             8.0            5.0   \n",
      "\n",
      "   Physical_Activity  Screen_Time  Caffeine_Intake  Alcohol_Intake  \\\n",
      "0                2.0          4.0                1               0   \n",
      "1                1.0          3.0                0               1   \n",
      "2                2.0          4.0                1               0   \n",
      "3                2.0          4.0                1               0   \n",
      "4                3.0          2.0                1               0   \n",
      "\n",
      "   Smoking_Habit  Work_Hours  Travel_Time  Social_Interactions  \\\n",
      "0              0           8          1.0                    5   \n",
      "1              0           9          2.0                    3   \n",
      "2              0           8          1.0                    5   \n",
      "3              0           8          1.0                    5   \n",
      "4              0           7          1.0                    4   \n",
      "\n",
      "   Meditation_Practice  Exercise_Type  Blood_Pressure  Cholesterol_Level  \\\n",
      "0                    1              1             120                180   \n",
      "1                    0              6             110                160   \n",
      "2                    1              4             130                200   \n",
      "3                    1              1             120                180   \n",
      "4                    1              6             110                180   \n",
      "\n",
      "   Blood_Sugar_Level  Stress_Detection  \n",
      "0                 90                 1  \n",
      "1                 80                 2  \n",
      "2                100                 0  \n",
      "3                 90                 1  \n",
      "4                 90                 1  \n"
     ]
    }
   ],
   "source": [
    "from sklearn.preprocessing import LabelEncoder\n",
    "import pandas as pd\n",
    "\n",
    "# Drop 'Wake_Up_Time' and 'Bed_Time' columns\n",
    "df = df.drop(columns=[\"Wake_Up_Time\", \"Bed_Time\"], errors='ignore')\n",
    "\n",
    "# Initialize the label encoder\n",
    "encoder = LabelEncoder()\n",
    "\n",
    "# List of categorical columns to encode\n",
    "categorical_columns = [\"Gender\", \"Occupation\", \"Marital_Status\", \"Smoking_Habit\", \n",
    "                       \"Meditation_Practice\", \"Exercise_Type\", \"Stress_Detection\"]\n",
    "\n",
    "# Store the mappings in a dictionary for easy reference\n",
    "mappings = {}\n",
    "\n",
    "# Encode each column and store the mapping\n",
    "for col in categorical_columns:\n",
    "    df[col] = encoder.fit_transform(df[col])\n",
    "    mappings[col] = dict(zip(encoder.classes_, encoder.transform(encoder.classes_)))\n",
    "\n",
    "# Print the mappings for reference\n",
    "print(\"Category Mappings:\")\n",
    "for col, mapping in mappings.items():\n",
    "    print(f\"{col}: {mapping}\\n\")\n",
    "\n",
    "# Check if the changes have been applied\n",
    "print(\"\\nUpdated DataFrame Preview:\")\n",
    "print(df.head())"
   ]
  },
  {
   "cell_type": "code",
   "execution_count": 11,
   "id": "4b6143d0-3de8-43ad-ab3d-588c9dec9a85",
   "metadata": {},
   "outputs": [
    {
     "name": "stdout",
     "output_type": "stream",
     "text": [
      "(618, 19) (155, 19)\n"
     ]
    }
   ],
   "source": [
    "from sklearn.model_selection import train_test_split\n",
    "\n",
    "# Features (X) and target variable (y)\n",
    "X = df.drop(columns=[\"Stress_Detection\"])  # Features\n",
    "y = df[\"Stress_Detection\"]  # Target\n",
    "\n",
    "# Split into training (80%) and testing (20%) datasets\n",
    "X_train, X_test, y_train, y_test = train_test_split(X, y, test_size=0.2, random_state=42)\n",
    "\n",
    "print(X_train.shape, X_test.shape)  # Check dataset size"
   ]
  },
  {
   "cell_type": "code",
   "execution_count": 12,
   "id": "2c69c146-26c2-4634-a6a8-3a43343a5052",
   "metadata": {},
   "outputs": [
    {
     "name": "stdout",
     "output_type": "stream",
     "text": [
      "Model Accuracy: 0.61\n"
     ]
    }
   ],
   "source": [
    "from sklearn.tree import DecisionTreeClassifier\n",
    "from sklearn.metrics import accuracy_score\n",
    "\n",
    "# Initialize and train the model\n",
    "model = DecisionTreeClassifier()\n",
    "model.fit(X_train, y_train)\n",
    "\n",
    "# Make predictions\n",
    "y_pred = model.predict(X_test)\n",
    "\n",
    "# Evaluate the model\n",
    "accuracy = accuracy_score(y_test, y_pred)\n",
    "print(f\"Model Accuracy: {accuracy:.2f}\")"
   ]
  },
  {
   "cell_type": "code",
   "execution_count": 13,
   "id": "2a59e3a2-16a7-4167-9db5-d238b629d572",
   "metadata": {},
   "outputs": [
    {
     "data": {
      "image/png": "[encoded data removed]",
      "text/plain": [
       "<Figure size 640x480 with 2 Axes>"
      ]
     },
     "metadata": {},
     "output_type": "display_data"
    }
   ],
   "source": [
    "from sklearn.metrics import confusion_matrix\n",
    "import seaborn as sns\n",
    "import matplotlib.pyplot as plt\n",
    "\n",
    "# Compute confusion matrix\n",
    "cm = confusion_matrix(y_test, y_pred)\n",
    "\n",
    "# Plot confusion matrix using seaborn\n",
    "sns.heatmap(cm, annot=True, fmt='d', cmap='Blues', xticklabels=encoder.classes_, yticklabels=encoder.classes_)\n",
    "plt.xlabel('Predicted')\n",
    "plt.ylabel('True')\n",
    "plt.title('Confusion Matrix')\n",
    "plt.show()"
   ]
  },
  {
   "cell_type": "code",
   "execution_count": 14,
   "id": "8e745f60-991f-4db6-99fb-27485180af69",
   "metadata": {},
   "outputs": [
    {
     "name": "stdout",
     "output_type": "stream",
     "text": [
      "Random Forest Model Accuracy: 77.42%\n",
      "              precision    recall  f1-score   support\n",
      "\n",
      "           0       0.84      0.84      0.84        58\n",
      "           1       0.71      0.53      0.61        32\n",
      "           2       0.74      0.83      0.78        65\n",
      "\n",
      "    accuracy                           0.77       155\n",
      "   macro avg       0.76      0.74      0.74       155\n",
      "weighted avg       0.77      0.77      0.77       155\n",
      "\n"
     ]
    }
   ],
   "source": [
    "from sklearn.ensemble import RandomForestClassifier\n",
    "from sklearn.metrics import accuracy_score, classification_report\n",
    "\n",
    "# Initialize the RandomForestClassifier\n",
    "rf_model = RandomForestClassifier(random_state=42)\n",
    "\n",
    "# Train the model on the training data\n",
    "rf_model.fit(X_train, y_train)\n",
    "\n",
    "# Make predictions on the test set\n",
    "rf_y_pred = rf_model.predict(X_test)\n",
    "\n",
    "# Calculate accuracy\n",
    "rf_accuracy = accuracy_score(y_test, rf_y_pred)\n",
    "print(f\"Random Forest Model Accuracy: {rf_accuracy * 100:.2f}%\")\n",
    "\n",
    "# Generate classification report\n",
    "print(classification_report(y_test, rf_y_pred))"
   ]
  },
  {
   "cell_type": "code",
   "execution_count": 15,
   "id": "3df77525-bc6d-4d9e-be80-034d9970592b",
   "metadata": {},
   "outputs": [
    {
     "name": "stdout",
     "output_type": "stream",
     "text": [
      "Tuned Random Forest Model Accuracy: 76.77%\n"
     ]
    }
   ],
   "source": [
    "from sklearn.model_selection import GridSearchCV\n",
    "\n",
    "# Hyperparameter grid for Random Forest\n",
    "param_grid = {\n",
    "    'n_estimators': [50, 100, 200],\n",
    "    'max_depth': [None, 10, 20],\n",
    "    'min_samples_split': [2, 5, 10],\n",
    "    'min_samples_leaf': [1, 2, 4]\n",
    "}\n",
    "\n",
    "# Perform Grid Search with cross-validation\n",
    "grid_search = GridSearchCV(estimator=RandomForestClassifier(random_state=42),\n",
    "                           param_grid=param_grid,\n",
    "                           cv=5,  # 5-fold cross-validation\n",
    "                           n_jobs=-1,  # Use all available processors\n",
    "                           verbose=0)\n",
    "\n",
    "# Fit the grid search to the training data\n",
    "grid_search.fit(X_train, y_train)\n",
    "\n",
    "# Evaluate the tuned model\n",
    "best_rf_model = grid_search.best_estimator_\n",
    "y_pred_tuned = best_rf_model.predict(X_test)\n",
    "print(f\"Tuned Random Forest Model Accuracy: {accuracy_score(y_test, y_pred_tuned) * 100:.2f}%\")"
   ]
  },
  {
   "cell_type": "code",
   "execution_count": 16,
   "id": "0c64a680-8b50-446c-916f-1376833669a3",
   "metadata": {},
   "outputs": [
    {
     "name": "stdout",
     "output_type": "stream",
     "text": [
      "Ensemble Model Accuracy: 69.68%\n"
     ]
    }
   ],
   "source": [
    "from sklearn.ensemble import VotingClassifier\n",
    "\n",
    "# Initialize individual models\n",
    "dt_model = DecisionTreeClassifier(random_state=42)\n",
    "rf_model = RandomForestClassifier(random_state=42)\n",
    "\n",
    "# Combine models into a voting classifier\n",
    "ensemble_model = VotingClassifier(estimators=[('dt', dt_model), ('rf', rf_model)], voting='hard')\n",
    "\n",
    "# Train the ensemble model\n",
    "ensemble_model.fit(X_train, y_train)\n",
    "\n",
    "# Evaluate the ensemble model\n",
    "ensemble_y_pred = ensemble_model.predict(X_test)\n",
    "print(f\"Ensemble Model Accuracy: {accuracy_score(y_test, ensemble_y_pred) * 100:.2f}%\")"
   ]
  },
  {
   "cell_type": "code",
   "execution_count": 17,
   "id": "5e2b6842-b9b3-4ba2-8641-f6ac12138c6a",
   "metadata": {},
   "outputs": [
    {
     "data": {
      "image/png": "[encoded data removed]",
      "text/plain": [
       "<Figure size 1000x500 with 1 Axes>"
      ]
     },
     "metadata": {},
     "output_type": "display_data"
    }
   ],
   "source": [
    "import matplotlib.pyplot as plt\n",
    "import seaborn as sns\n",
    "\n",
    "# Get feature importance\n",
    "feature_importance = model.feature_importances_\n",
    "\n",
    "# Plot feature importance\n",
    "plt.figure(figsize=(10,5))\n",
    "sns.barplot(x=X.columns, y=feature_importance)\n",
    "plt.xticks(rotation=90)\n",
    "plt.title(\"Feature Importance\")\n",
    "plt.show()"
   ]
  },
  {
   "cell_type": "code",
   "execution_count": 19,
   "id": "d1a9cdb6-a6c3-46f1-8ebd-8f2f73a8eaf6",
   "metadata": {},
   "outputs": [
    {
     "name": "stdout",
     "output_type": "stream",
     "text": [
      "Predicted Stress Level: [1]\n"
     ]
    },
    {
     "name": "stderr",
     "output_type": "stream",
     "text": [
      "/Users/alvishprasla/VS_Code/Py/BioHacks/Biohack/lib/python3.13/site-packages/sklearn/utils/validation.py:2739: UserWarning: X does not have valid feature names, but DecisionTreeClassifier was fitted with feature names\n",
      "  warnings.warn(\n"
     ]
    }
   ],
   "source": [
    "import joblib\n",
    "\n",
    "# Save the trained model\n",
    "joblib.dump(model, \"stress_prediction_df_model.pkl\")\n",
    "\n",
    "# Load and use the model later\n",
    "loaded_model = joblib.load(\"stress_prediction_df_model.pkl\")\n",
    "new_prediction = loaded_model.predict([[30,1,150,2,7.0,4.0,0,2.0,4.0,0,0,8,1.0,5,1,0,120,180,90]])\n",
    "print(\"Predicted Stress Level:\", new_prediction)"
   ]
  },
  {
   "cell_type": "code",
   "execution_count": null,
   "id": "531e78bd-1886-47f7-9373-3ff7b016e63a",
   "metadata": {},
   "outputs": [],
   "source": []
  }
 ],
 "metadata": {
  "kernelspec": {
   "display_name": "Biohack",
   "language": "python",
   "name": "python3"
  },
  "language_info": {
   "codemirror_mode": {
    "name": "ipython",
    "version": 3
   },
   "file_extension": ".py",
   "mimetype": "text/x-python",
   "name": "python",
   "nbconvert_exporter": "python",
   "pygments_lexer": "ipython3",
   "version": "3.13.1"
  }
 },
 "nbformat": 4,
 "nbformat_minor": 5
}
